{
 "cells": [
  {
   "cell_type": "code",
   "execution_count": 25,
   "metadata": {},
   "outputs": [],
   "source": [
    "import os\n",
    "from dotenv import load_dotenv\n",
    "from intake import open_catalog\n",
    "import intake\n",
    "\n",
    "import pandas as pd\n",
    "import numpy as np\n",
    "import geopandas as gpd\n",
    "\n",
    "import datetime\n",
    "from pystac_client import Client as psc\n",
    "\n",
    "#import dask.distributed\n",
    "import stackstac\n",
    "\n",
    "from pyproj import CRS\n",
    "from pyproj import Transformer"
   ]
  },
  {
   "cell_type": "code",
   "execution_count": 30,
   "metadata": {},
   "outputs": [
    {
     "name": "stderr",
     "output_type": "stream",
     "text": [
      "C:\\Users\\Administrateur\\AppData\\Local\\Temp\\ipykernel_11324\\62033604.py:23: FutureWarning: Currently, index_parts defaults to True, but in the future, it will default to False to be consistent with Pandas. Use `index_parts=True` to keep the current behavior and True/False to silence the warning.\n",
      "  ba_test = ba_test.explode()\n"
     ]
    },
    {
     "data": {
      "text/html": [
       "<div>\n",
       "<style scoped>\n",
       "    .dataframe tbody tr th:only-of-type {\n",
       "        vertical-align: middle;\n",
       "    }\n",
       "\n",
       "    .dataframe tbody tr th {\n",
       "        vertical-align: top;\n",
       "    }\n",
       "\n",
       "    .dataframe thead th {\n",
       "        text-align: right;\n",
       "    }\n",
       "</style>\n",
       "<table border=\"1\" class=\"dataframe\">\n",
       "  <thead>\n",
       "    <tr style=\"text-align: right;\">\n",
       "      <th></th>\n",
       "      <th></th>\n",
       "      <th>PLOTID</th>\n",
       "      <th>surface_id</th>\n",
       "      <th>date</th>\n",
       "      <th>nom</th>\n",
       "      <th>surface</th>\n",
       "      <th>her</th>\n",
       "      <th>commune</th>\n",
       "      <th>index</th>\n",
       "      <th>layer</th>\n",
       "      <th>path</th>\n",
       "      <th>date_</th>\n",
       "      <th>geometry</th>\n",
       "    </tr>\n",
       "  </thead>\n",
       "  <tbody>\n",
       "    <tr>\n",
       "      <th>0</th>\n",
       "      <th>0</th>\n",
       "      <td>653</td>\n",
       "      <td>360203</td>\n",
       "      <td>2023-09-17</td>\n",
       "      <td>L2A_T58KGB</td>\n",
       "      <td>1.298902</td>\n",
       "      <td>A</td>\n",
       "      <td>LIFOU</td>\n",
       "      <td>NaN</td>\n",
       "      <td>surfaces_brulees_2023_sept_oct_HER_A_inf10</td>\n",
       "      <td>N:/Informatique/SIG/Etudes/2023/2309_QC_feux/P...</td>\n",
       "      <td>2023-09-17</td>\n",
       "      <td>POLYGON ((546210.500 340354.400, 546220.500 34...</td>\n",
       "    </tr>\n",
       "    <tr>\n",
       "      <th>1</th>\n",
       "      <th>0</th>\n",
       "      <td>828</td>\n",
       "      <td>360204</td>\n",
       "      <td>2023-09-20</td>\n",
       "      <td>L2A_T58KFC</td>\n",
       "      <td>1.110337</td>\n",
       "      <td>A</td>\n",
       "      <td>OUVEA</td>\n",
       "      <td>NaN</td>\n",
       "      <td>surfaces_brulees_2023_sept_oct_HER_A_inf10</td>\n",
       "      <td>N:/Informatique/SIG/Etudes/2023/2309_QC_feux/P...</td>\n",
       "      <td>2023-09-20</td>\n",
       "      <td>POLYGON ((462460.300 417339.900, 462500.300 41...</td>\n",
       "    </tr>\n",
       "  </tbody>\n",
       "</table>\n",
       "</div>"
      ],
      "text/plain": [
       "     PLOTID  surface_id        date         nom   surface her commune  index  \\\n",
       "0 0     653      360203  2023-09-17  L2A_T58KGB  1.298902   A   LIFOU    NaN   \n",
       "1 0     828      360204  2023-09-20  L2A_T58KFC  1.110337   A   OUVEA    NaN   \n",
       "\n",
       "                                          layer  \\\n",
       "0 0  surfaces_brulees_2023_sept_oct_HER_A_inf10   \n",
       "1 0  surfaces_brulees_2023_sept_oct_HER_A_inf10   \n",
       "\n",
       "                                                  path       date_  \\\n",
       "0 0  N:/Informatique/SIG/Etudes/2023/2309_QC_feux/P...  2023-09-17   \n",
       "1 0  N:/Informatique/SIG/Etudes/2023/2309_QC_feux/P...  2023-09-20   \n",
       "\n",
       "                                              geometry  \n",
       "0 0  POLYGON ((546210.500 340354.400, 546220.500 34...  \n",
       "1 0  POLYGON ((462460.300 417339.900, 462500.300 41...  "
      ]
     },
     "execution_count": 30,
     "metadata": {},
     "output_type": "execute_result"
    }
   ],
   "source": [
    "# Variables à changer pour récupérer les données sources de la chaîne des feux dans le système de l'oeil\n",
    "# Utiliser intake et dotenv \n",
    "# Intake pour ouvrir le catalogue à partir de la db postgres de l'OEIL\n",
    "# dotenv pour gérer les credentials et les chemins d'accès\n",
    "\n",
    "PATH_GEOM = r\"E:\\FILES\\OEIL\\datas\\sentinel_surfaces_detectees_sept_oct_2023.gpkg\"\n",
    "\n",
    "URL = \"https://earth-search.aws.element84.com/v1\"\n",
    "\n",
    "\n",
    "\n",
    "crs_rgnc = CRS.from_epsg(3163)\n",
    "crs_4326 = CRS.from_epsg(4326)\n",
    "transformer = Transformer.from_crs(crs_rgnc, crs_4326)\n",
    "\n",
    "# On lit le fichier des surfaces brûlées dans un geodataframe\n",
    "ba_test = gpd.read_file(PATH_GEOM)\n",
    "\n",
    "# On créer une nouvelle colonne pour avoir un datetime de la date\n",
    "ba_test['date_']= pd.to_datetime(ba_test['date'], format='%Y-%m-%d').dt.date\n",
    "\n",
    "# On passe de multipolygon à polygon.\n",
    "ba_test = ba_test.explode()\n",
    "ba_test.head(2)"
   ]
  },
  {
   "cell_type": "code",
   "execution_count": 31,
   "metadata": {},
   "outputs": [
    {
     "name": "stdout",
     "output_type": "stream",
     "text": [
      "Emprise spatiale globale des formes identifiées [167.07659632 -21.15455212 167.40841612 -20.73348055]\n",
      "Interval temporel 2022-09-12/2023-10-30\n"
     ]
    }
   ],
   "source": [
    "# On établit la liste des communes de notre geodataframe\n",
    "liste_commune = list(set(ba_test[\"commune\"]))\n",
    "\n",
    "# On récupère les surfaces_id qui ont été photo interprétés, fournis par Oriane\n",
    "surfaces_id = {\n",
    "    \"burned\" : [358032, 358018, 358010, 359919, 359594, 359614, 358008, 359524, 359592, 359944],\n",
    "    \"unburned\"  : [357997, 358001, 358002, 358017, 358012, 359543, 359788, 359498, 359545, 360203],\n",
    "    \"doubt\": [358026, 358033,359595, 359964, 362134, 362171, 362192, 362851, 360718, 359666]\n",
    "}\n",
    "\n",
    "# On prend un intervalle de temps avec 120 jours avant la première date de détection de surface brûlée du geopackage des surfaces brûlées\n",
    "datemin = (min(ba_test['date_']) - datetime.timedelta(days=120)).strftime('%Y-%m-%d') \n",
    "datemax = max(ba_test['date_']).strftime('%Y-%m-%d')\n",
    "\n",
    "ba_test_filter = ba_test[ba_test[\"commune\"]==\"LIFOU\"]\n",
    "bbox = ba_test_filter[\"geometry\"].to_crs(4326).total_bounds\n",
    "\n",
    "dates = f'{datemin}/{datemax}'\n",
    "print(f'Emprise spatiale globale des formes identifiées {bbox}')\n",
    "\n",
    "print(f'Interval temporel {dates}')"
   ]
  },
  {
   "cell_type": "code",
   "execution_count": 34,
   "metadata": {},
   "outputs": [
    {
     "name": "stdout",
     "output_type": "stream",
     "text": [
      "173 scenes Sentinel-2 L2A trouvées dans l'interval temporel ayant - de 50% de couverture nuageuse\n"
     ]
    }
   ],
   "source": [
    "client = psc.open(URL)\n",
    "cc=50\n",
    "search = client.search(\n",
    "   \n",
    "    collections=['sentinel-2-l2a'],\n",
    "    bbox=bbox,\n",
    "    datetime=dates,\n",
    "    query={\"eo:cloud_cover\": {\"lt\": cc}}\n",
    "\n",
    "    )\n",
    "\n",
    "print(f\"{search.matched()} scenes Sentinel-2 L2A trouvées dans l'interval temporel ayant - de {cc}% de couverture nuageuse\")\n"
   ]
  },
  {
   "cell_type": "code",
   "execution_count": 35,
   "metadata": {},
   "outputs": [],
   "source": [
    "items = search.item_collection()"
   ]
  },
  {
   "cell_type": "code",
   "execution_count": 38,
   "metadata": {},
   "outputs": [
    {
     "name": "stdout",
     "output_type": "stream",
     "text": [
      "stack.crs epsg:32758\n"
     ]
    },
    {
     "name": "stderr",
     "output_type": "stream",
     "text": [
      "e:\\FILES\\OEIL\\PYTEST\\Lib\\site-packages\\stackstac\\prepare.py:408: UserWarning: The argument 'infer_datetime_format' is deprecated and will be removed in a future version. A strict version of it is now the default, see https://pandas.pydata.org/pdeps/0004-consistent-to-datetime-parsing.html. You can safely remove this argument.\n",
      "  times = pd.to_datetime(\n"
     ]
    },
    {
     "data": {
      "text/plain": [
       "167.07659631784472"
      ]
     },
     "execution_count": 38,
     "metadata": {},
     "output_type": "execute_result"
    }
   ],
   "source": [
    "stack = stackstac.stack(items)\n",
    "print(\"stack.crs\",stack.crs)\n",
    "bbox[0]"
   ]
  },
  {
   "cell_type": "code",
   "execution_count": 39,
   "metadata": {},
   "outputs": [
    {
     "name": "stderr",
     "output_type": "stream",
     "text": [
      "e:\\FILES\\OEIL\\PYTEST\\Lib\\site-packages\\stackstac\\prepare.py:408: UserWarning: The argument 'infer_datetime_format' is deprecated and will be removed in a future version. A strict version of it is now the default, see https://pandas.pydata.org/pdeps/0004-consistent-to-datetime-parsing.html. You can safely remove this argument.\n",
      "  times = pd.to_datetime(\n"
     ]
    }
   ],
   "source": [
    "sentinel_stack = stackstac.stack(\n",
    "                          items,\n",
    "                          bounds_latlon=[bbox[0], bbox[1],  bbox[2],  bbox[3]],\n",
    "\n",
    "                          gdal_env=stackstac.DEFAULT_GDAL_ENV.updated(\n",
    "                               {'GDAL_HTTP_MAX_RETRY': 3,\n",
    "                                'GDAL_HTTP_RETRY_DELAY': 5,\n",
    "                               }),\n",
    "                          epsg=4326\n",
    "                          )"
   ]
  },
  {
   "cell_type": "code",
   "execution_count": 46,
   "metadata": {},
   "outputs": [
    {
     "ename": "ImportError",
     "evalue": "Dask diagnostics requirements are not installed.\n\nPlease either conda or pip install as follows:\n\n  conda install dask                     # either conda install\n  python -m pip install \"dask[diagnostics]\" --upgrade  # or python -m pip install",
     "output_type": "error",
     "traceback": [
      "\u001b[1;31m---------------------------------------------------------------------------\u001b[0m",
      "\u001b[1;31mModuleNotFoundError\u001b[0m                       Traceback (most recent call last)",
      "File \u001b[1;32me:\\FILES\\OEIL\\PYTEST\\Lib\\site-packages\\dask\\widgets\\__init__.py:4\u001b[0m\n\u001b[0;32m      3\u001b[0m \u001b[39mtry\u001b[39;00m:\n\u001b[1;32m----> 4\u001b[0m     \u001b[39mfrom\u001b[39;00m \u001b[39mdask\u001b[39;00m\u001b[39m.\u001b[39;00m\u001b[39mwidgets\u001b[39;00m\u001b[39m.\u001b[39;00m\u001b[39mwidgets\u001b[39;00m \u001b[39mimport\u001b[39;00m (\n\u001b[0;32m      5\u001b[0m         FILTERS,\n\u001b[0;32m      6\u001b[0m         TEMPLATE_PATHS,\n\u001b[0;32m      7\u001b[0m         get_environment,\n\u001b[0;32m      8\u001b[0m         get_template,\n\u001b[0;32m      9\u001b[0m     )\n\u001b[0;32m     11\u001b[0m \u001b[39mexcept\u001b[39;00m \u001b[39mImportError\u001b[39;00m \u001b[39mas\u001b[39;00m e:\n",
      "File \u001b[1;32me:\\FILES\\OEIL\\PYTEST\\Lib\\site-packages\\dask\\widgets\\widgets.py:7\u001b[0m\n\u001b[0;32m      5\u001b[0m \u001b[39mimport\u001b[39;00m \u001b[39mos\u001b[39;00m\u001b[39m.\u001b[39;00m\u001b[39mpath\u001b[39;00m\n\u001b[1;32m----> 7\u001b[0m \u001b[39mfrom\u001b[39;00m \u001b[39mjinja2\u001b[39;00m \u001b[39mimport\u001b[39;00m Environment, FileSystemLoader, Template\n\u001b[0;32m      8\u001b[0m \u001b[39mfrom\u001b[39;00m \u001b[39mjinja2\u001b[39;00m\u001b[39m.\u001b[39;00m\u001b[39mexceptions\u001b[39;00m \u001b[39mimport\u001b[39;00m TemplateNotFound\n",
      "\u001b[1;31mModuleNotFoundError\u001b[0m: No module named 'jinja2'",
      "\nThe above exception was the direct cause of the following exception:\n",
      "\u001b[1;31mImportError\u001b[0m                               Traceback (most recent call last)",
      "File \u001b[1;32me:\\FILES\\OEIL\\PYTEST\\Lib\\site-packages\\IPython\\core\\formatters.py:344\u001b[0m, in \u001b[0;36mBaseFormatter.__call__\u001b[1;34m(self, obj)\u001b[0m\n\u001b[0;32m    342\u001b[0m     method \u001b[39m=\u001b[39m get_real_method(obj, \u001b[39mself\u001b[39m\u001b[39m.\u001b[39mprint_method)\n\u001b[0;32m    343\u001b[0m     \u001b[39mif\u001b[39;00m method \u001b[39mis\u001b[39;00m \u001b[39mnot\u001b[39;00m \u001b[39mNone\u001b[39;00m:\n\u001b[1;32m--> 344\u001b[0m         \u001b[39mreturn\u001b[39;00m method()\n\u001b[0;32m    345\u001b[0m     \u001b[39mreturn\u001b[39;00m \u001b[39mNone\u001b[39;00m\n\u001b[0;32m    346\u001b[0m \u001b[39melse\u001b[39;00m:\n",
      "File \u001b[1;32me:\\FILES\\OEIL\\PYTEST\\Lib\\site-packages\\xarray\\core\\common.py:174\u001b[0m, in \u001b[0;36mAbstractArray._repr_html_\u001b[1;34m(self)\u001b[0m\n\u001b[0;32m    172\u001b[0m \u001b[39mif\u001b[39;00m OPTIONS[\u001b[39m\"\u001b[39m\u001b[39mdisplay_style\u001b[39m\u001b[39m\"\u001b[39m] \u001b[39m==\u001b[39m \u001b[39m\"\u001b[39m\u001b[39mtext\u001b[39m\u001b[39m\"\u001b[39m:\n\u001b[0;32m    173\u001b[0m     \u001b[39mreturn\u001b[39;00m \u001b[39mf\u001b[39m\u001b[39m\"\u001b[39m\u001b[39m<pre>\u001b[39m\u001b[39m{\u001b[39;00mescape(\u001b[39mrepr\u001b[39m(\u001b[39mself\u001b[39m))\u001b[39m}\u001b[39;00m\u001b[39m</pre>\u001b[39m\u001b[39m\"\u001b[39m\n\u001b[1;32m--> 174\u001b[0m \u001b[39mreturn\u001b[39;00m formatting_html\u001b[39m.\u001b[39;49marray_repr(\u001b[39mself\u001b[39;49m)\n",
      "File \u001b[1;32me:\\FILES\\OEIL\\PYTEST\\Lib\\site-packages\\xarray\\core\\formatting_html.py:316\u001b[0m, in \u001b[0;36marray_repr\u001b[1;34m(arr)\u001b[0m\n\u001b[0;32m    308\u001b[0m arr_name \u001b[39m=\u001b[39m \u001b[39mf\u001b[39m\u001b[39m\"\u001b[39m\u001b[39m'\u001b[39m\u001b[39m{\u001b[39;00marr\u001b[39m.\u001b[39mname\u001b[39m}\u001b[39;00m\u001b[39m'\u001b[39m\u001b[39m\"\u001b[39m \u001b[39mif\u001b[39;00m \u001b[39mgetattr\u001b[39m(arr, \u001b[39m\"\u001b[39m\u001b[39mname\u001b[39m\u001b[39m\"\u001b[39m, \u001b[39mNone\u001b[39;00m) \u001b[39melse\u001b[39;00m \u001b[39m\"\u001b[39m\u001b[39m\"\u001b[39m\n\u001b[0;32m    310\u001b[0m header_components \u001b[39m=\u001b[39m [\n\u001b[0;32m    311\u001b[0m     \u001b[39mf\u001b[39m\u001b[39m\"\u001b[39m\u001b[39m<div class=\u001b[39m\u001b[39m'\u001b[39m\u001b[39mxr-obj-type\u001b[39m\u001b[39m'\u001b[39m\u001b[39m>\u001b[39m\u001b[39m{\u001b[39;00mobj_type\u001b[39m}\u001b[39;00m\u001b[39m</div>\u001b[39m\u001b[39m\"\u001b[39m,\n\u001b[0;32m    312\u001b[0m     \u001b[39mf\u001b[39m\u001b[39m\"\u001b[39m\u001b[39m<div class=\u001b[39m\u001b[39m'\u001b[39m\u001b[39mxr-array-name\u001b[39m\u001b[39m'\u001b[39m\u001b[39m>\u001b[39m\u001b[39m{\u001b[39;00marr_name\u001b[39m}\u001b[39;00m\u001b[39m</div>\u001b[39m\u001b[39m\"\u001b[39m,\n\u001b[0;32m    313\u001b[0m     format_dims(dims, indexed_dims),\n\u001b[0;32m    314\u001b[0m ]\n\u001b[1;32m--> 316\u001b[0m sections \u001b[39m=\u001b[39m [array_section(arr)]\n\u001b[0;32m    318\u001b[0m \u001b[39mif\u001b[39;00m \u001b[39mhasattr\u001b[39m(arr, \u001b[39m\"\u001b[39m\u001b[39mcoords\u001b[39m\u001b[39m\"\u001b[39m):\n\u001b[0;32m    319\u001b[0m     sections\u001b[39m.\u001b[39mappend(coord_section(arr\u001b[39m.\u001b[39mcoords))\n",
      "File \u001b[1;32me:\\FILES\\OEIL\\PYTEST\\Lib\\site-packages\\xarray\\core\\formatting_html.py:225\u001b[0m, in \u001b[0;36marray_section\u001b[1;34m(obj)\u001b[0m\n\u001b[0;32m    223\u001b[0m variable \u001b[39m=\u001b[39m \u001b[39mgetattr\u001b[39m(obj, \u001b[39m\"\u001b[39m\u001b[39mvariable\u001b[39m\u001b[39m\"\u001b[39m, obj)\n\u001b[0;32m    224\u001b[0m preview \u001b[39m=\u001b[39m escape(inline_variable_array_repr(variable, max_width\u001b[39m=\u001b[39m\u001b[39m70\u001b[39m))\n\u001b[1;32m--> 225\u001b[0m data_repr \u001b[39m=\u001b[39m short_data_repr_html(obj)\n\u001b[0;32m    226\u001b[0m data_icon \u001b[39m=\u001b[39m _icon(\u001b[39m\"\u001b[39m\u001b[39micon-database\u001b[39m\u001b[39m\"\u001b[39m)\n\u001b[0;32m    228\u001b[0m \u001b[39mreturn\u001b[39;00m (\n\u001b[0;32m    229\u001b[0m     \u001b[39m\"\u001b[39m\u001b[39m<div class=\u001b[39m\u001b[39m'\u001b[39m\u001b[39mxr-array-wrap\u001b[39m\u001b[39m'\u001b[39m\u001b[39m>\u001b[39m\u001b[39m\"\u001b[39m\n\u001b[0;32m    230\u001b[0m     \u001b[39mf\u001b[39m\u001b[39m\"\u001b[39m\u001b[39m<input id=\u001b[39m\u001b[39m'\u001b[39m\u001b[39m{\u001b[39;00mdata_id\u001b[39m}\u001b[39;00m\u001b[39m'\u001b[39m\u001b[39m class=\u001b[39m\u001b[39m'\u001b[39m\u001b[39mxr-array-in\u001b[39m\u001b[39m'\u001b[39m\u001b[39m type=\u001b[39m\u001b[39m'\u001b[39m\u001b[39mcheckbox\u001b[39m\u001b[39m'\u001b[39m\u001b[39m \u001b[39m\u001b[39m{\u001b[39;00mcollapsed\u001b[39m}\u001b[39;00m\u001b[39m>\u001b[39m\u001b[39m\"\u001b[39m\n\u001b[1;32m   (...)\u001b[0m\n\u001b[0;32m    234\u001b[0m     \u001b[39m\"\u001b[39m\u001b[39m</div>\u001b[39m\u001b[39m\"\u001b[39m\n\u001b[0;32m    235\u001b[0m )\n",
      "File \u001b[1;32me:\\FILES\\OEIL\\PYTEST\\Lib\\site-packages\\xarray\\core\\formatting_html.py:35\u001b[0m, in \u001b[0;36mshort_data_repr_html\u001b[1;34m(array)\u001b[0m\n\u001b[0;32m     33\u001b[0m internal_data \u001b[39m=\u001b[39m \u001b[39mgetattr\u001b[39m(array, \u001b[39m\"\u001b[39m\u001b[39mvariable\u001b[39m\u001b[39m\"\u001b[39m, array)\u001b[39m.\u001b[39m_data\n\u001b[0;32m     34\u001b[0m \u001b[39mif\u001b[39;00m \u001b[39mhasattr\u001b[39m(internal_data, \u001b[39m\"\u001b[39m\u001b[39m_repr_html_\u001b[39m\u001b[39m\"\u001b[39m):\n\u001b[1;32m---> 35\u001b[0m     \u001b[39mreturn\u001b[39;00m internal_data\u001b[39m.\u001b[39;49m_repr_html_()\n\u001b[0;32m     36\u001b[0m text \u001b[39m=\u001b[39m escape(short_data_repr(array))\n\u001b[0;32m     37\u001b[0m \u001b[39mreturn\u001b[39;00m \u001b[39mf\u001b[39m\u001b[39m\"\u001b[39m\u001b[39m<pre>\u001b[39m\u001b[39m{\u001b[39;00mtext\u001b[39m}\u001b[39;00m\u001b[39m</pre>\u001b[39m\u001b[39m\"\u001b[39m\n",
      "File \u001b[1;32me:\\FILES\\OEIL\\PYTEST\\Lib\\site-packages\\dask\\array\\core.py:1642\u001b[0m, in \u001b[0;36mArray._repr_html_\u001b[1;34m(self)\u001b[0m\n\u001b[0;32m   1639\u001b[0m     nbytes \u001b[39m=\u001b[39m \u001b[39m\"\u001b[39m\u001b[39munknown\u001b[39m\u001b[39m\"\u001b[39m\n\u001b[0;32m   1640\u001b[0m     cbytes \u001b[39m=\u001b[39m \u001b[39m\"\u001b[39m\u001b[39munknown\u001b[39m\u001b[39m\"\u001b[39m\n\u001b[1;32m-> 1642\u001b[0m \u001b[39mreturn\u001b[39;00m get_template(\u001b[39m\"\u001b[39;49m\u001b[39marray.html.j2\u001b[39;49m\u001b[39m\"\u001b[39;49m)\u001b[39m.\u001b[39mrender(\n\u001b[0;32m   1643\u001b[0m     array\u001b[39m=\u001b[39m\u001b[39mself\u001b[39m,\n\u001b[0;32m   1644\u001b[0m     grid\u001b[39m=\u001b[39mgrid,\n\u001b[0;32m   1645\u001b[0m     nbytes\u001b[39m=\u001b[39mnbytes,\n\u001b[0;32m   1646\u001b[0m     cbytes\u001b[39m=\u001b[39mcbytes,\n\u001b[0;32m   1647\u001b[0m     layers\u001b[39m=\u001b[39mmaybe_pluralize(\u001b[39mlen\u001b[39m(\u001b[39mself\u001b[39m\u001b[39m.\u001b[39mdask\u001b[39m.\u001b[39mlayers), \u001b[39m\"\u001b[39m\u001b[39mgraph layer\u001b[39m\u001b[39m\"\u001b[39m),\n\u001b[0;32m   1648\u001b[0m )\n",
      "File \u001b[1;32me:\\FILES\\OEIL\\PYTEST\\Lib\\site-packages\\dask\\widgets\\__init__.py:26\u001b[0m, in \u001b[0;36mget_template\u001b[1;34m(name)\u001b[0m\n\u001b[0;32m     25\u001b[0m \u001b[39mdef\u001b[39;00m \u001b[39mget_template\u001b[39m(name: \u001b[39mstr\u001b[39m):\n\u001b[1;32m---> 26\u001b[0m     \u001b[39mraise\u001b[39;00m \u001b[39mImportError\u001b[39;00m(msg) \u001b[39mfrom\u001b[39;00m \u001b[39mexception\u001b[39;00m\n",
      "\u001b[1;31mImportError\u001b[0m: Dask diagnostics requirements are not installed.\n\nPlease either conda or pip install as follows:\n\n  conda install dask                     # either conda install\n  python -m pip install \"dask[diagnostics]\" --upgrade  # or python -m pip install"
     ]
    },
    {
     "data": {
      "text/plain": [
       "<xarray.DataArray 'stackstac-b5d35b33b63986f125ae1a302bda9de1' (time: 173,\n",
       "                                                                band: 32,\n",
       "                                                                y: 4611, x: 3438)>\n",
       "dask.array<fetch_raster_window, shape=(173, 32, 4611, 3438), dtype=float64, chunksize=(1, 1, 1024, 1024), chunktype=numpy.ndarray>\n",
       "Coordinates: (12/53)\n",
       "  * time                                     (time) datetime64[ns] 2022-09-12...\n",
       "    id                                       (time) <U24 'S2B_58KGC_20220912_...\n",
       "  * band                                     (band) <U12 'aot' ... 'wvp-jp2'\n",
       "  * x                                        (x) float64 167.1 167.1 ... 167.4\n",
       "  * y                                        (y) float64 -20.73 ... -21.15\n",
       "    updated                                  (time) <U24 '2022-11-06T04:38:07...\n",
       "    ...                                       ...\n",
       "    raster:bands                             (band) object [{'nodata': 0, 'da...\n",
       "    gsd                                      (band) object None 10 ... None None\n",
       "    common_name                              (band) object None 'blue' ... None\n",
       "    center_wavelength                        (band) object None 0.49 ... None\n",
       "    full_width_half_max                      (band) object None 0.098 ... None\n",
       "    epsg                                     int32 4326\n",
       "Attributes:\n",
       "    spec:           RasterSpec(epsg=4326, bounds=(167.076500542771, -21.15463...\n",
       "    crs:            epsg:4326\n",
       "    transform:      | 0.00, 0.00, 167.08|\\n| 0.00,-0.00,-20.73|\\n| 0.00, 0.00...\n",
       "    resolution_xy:  (9.655837462219097e-05, 9.134205374294879e-05)"
      ]
     },
     "execution_count": 46,
     "metadata": {},
     "output_type": "execute_result"
    }
   ],
   "source": [
    "sentinel_stack"
   ]
  },
  {
   "cell_type": "code",
   "execution_count": null,
   "metadata": {},
   "outputs": [],
   "source": []
  }
 ],
 "metadata": {
  "kernelspec": {
   "display_name": "PYTEST",
   "language": "python",
   "name": "python3"
  },
  "language_info": {
   "codemirror_mode": {
    "name": "ipython",
    "version": 3
   },
   "file_extension": ".py",
   "mimetype": "text/x-python",
   "name": "python",
   "nbconvert_exporter": "python",
   "pygments_lexer": "ipython3",
   "version": "3.12.1"
  }
 },
 "nbformat": 4,
 "nbformat_minor": 2
}
