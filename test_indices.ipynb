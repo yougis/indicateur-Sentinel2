{
 "cells": [
  {
   "cell_type": "code",
   "execution_count": null,
   "metadata": {},
   "outputs": [],
   "source": [
    "import os\n",
    "from dotenv import load_dotenv\n",
    "from intake import open_catalog\n",
    "import intake\n",
    "\n",
    "import pandas as pd\n",
    "import numpy as np\n",
    "import geopandas as gpd\n",
    "\n",
    "import datetime\n",
    "from pystac_client import Client as psc\n",
    "\n",
    "#import dask.distributed\n",
    "import stackstac\n",
    "\n",
    "from pyproj import CRS\n",
    "from pyproj import Transformer"
   ]
  },
  {
   "cell_type": "code",
   "execution_count": null,
   "metadata": {},
   "outputs": [],
   "source": [
    "# Variables à changer pour récupérer les données sources de la chaîne des feux dans le système de l'oeil\n",
    "# Utiliser intake et dotenv \n",
    "# Intake pour ouvrir le catalogue à partir de la db postgres de l'OEIL\n",
    "# dotenv pour gérer les credentials et les chemins d'accès\n",
    "\n",
    "PATH_GEOM = r\"E:\\FILES\\OEIL\\datas\\sentinel_surfaces_detectees_sept_oct_2023.gpkg\"\n",
    "\n",
    "URL = \"https://earth-search.aws.element84.com/v1\"\n",
    "\n",
    "\n",
    "\n",
    "crs_rgnc = CRS.from_epsg(3163)\n",
    "crs_4326 = CRS.from_epsg(4326)\n",
    "transformer = Transformer.from_crs(crs_rgnc, crs_4326)\n",
    "\n",
    "# On lit le fichier des surfaces brûlées dans un geodataframe\n",
    "ba_test = gpd.read_file(PATH_GEOM)\n",
    "\n",
    "# On créer une nouvelle colonne pour avoir un datetime de la date\n",
    "ba_test['date_']= pd.to_datetime(ba_test['date'], format='%Y-%m-%d').dt.date\n",
    "\n",
    "# On passe de multipolygon à polygon.\n",
    "ba_test = ba_test.explode()\n",
    "ba_test.head(2)"
   ]
  },
  {
   "cell_type": "code",
   "execution_count": null,
   "metadata": {},
   "outputs": [],
   "source": [
    "# On établit la liste des communes de notre geodataframe\n",
    "liste_commune = list(set(ba_test[\"commune\"]))\n",
    "\n",
    "# On récupère les surfaces_id qui ont été photo interprétés, fournis par Oriane\n",
    "surfaces_id = {\n",
    "    \"burned\" : [358032, 358018, 358010, 359919, 359594, 359614, 358008, 359524, 359592, 359944],\n",
    "    \"unburned\"  : [357997, 358001, 358002, 358017, 358012, 359543, 359788, 359498, 359545, 360203],\n",
    "    \"doubt\": [358026, 358033,359595, 359964, 362134, 362171, 362192, 362851, 360718, 359666]\n",
    "}\n",
    "\n",
    "# On prend un intervalle de temps avec 120 jours avant la première date de détection de surface brûlée du geopackage des surfaces brûlées\n",
    "datemin = (min(ba_test['date_']) - datetime.timedelta(days=120)).strftime('%Y-%m-%d') \n",
    "datemax = max(ba_test['date_']).strftime('%Y-%m-%d')\n",
    "\n",
    "ba_test_filter = ba_test[ba_test[\"commune\"]==\"LIFOU\"]\n",
    "bbox = ba_test_filter[\"geometry\"].to_crs(4326).total_bounds\n",
    "\n",
    "dates = f'{datemin}/{datemax}'\n",
    "print(f'Emprise spatiale globale des formes identifiées {bbox}')\n",
    "\n",
    "print(f'Interval temporel {dates}')"
   ]
  },
  {
   "cell_type": "code",
   "execution_count": null,
   "metadata": {},
   "outputs": [],
   "source": [
    "client = psc.open(URL)\n",
    "cc=40\n",
    "search = client.search(\n",
    "   \n",
    "    collections=['sentinel-2-l2a'],\n",
    "    bbox=bbox,\n",
    "    datetime=dates,\n",
    "    query={\"eo:cloud_cover\": {\"lt\": cc}}\n",
    "\n",
    "    )\n",
    "\n",
    "print(f\"{search.matched()} scenes Sentinel-2 L2A trouvées dans l'interval temporel ayant - de {cc}% de couverture nuageuse\")\n"
   ]
  },
  {
   "cell_type": "code",
   "execution_count": null,
   "metadata": {},
   "outputs": [],
   "source": [
    "items = search.item_collection()"
   ]
  },
  {
   "cell_type": "code",
   "execution_count": null,
   "metadata": {},
   "outputs": [],
   "source": [
    "stack = stackstac.stack(items)\n",
    "print(\"stack.crs\",stack.crs)\n",
    "bbox[0]"
   ]
  },
  {
   "cell_type": "code",
   "execution_count": null,
   "metadata": {},
   "outputs": [],
   "source": [
    "sentinel_stack = stackstac.stack(\n",
    "                          items,\n",
    "                          bounds_latlon=[bbox[0], bbox[1],  bbox[2],  bbox[3]],\n",
    "\n",
    "                          gdal_env=stackstac.DEFAULT_GDAL_ENV.updated(\n",
    "                               {'GDAL_HTTP_MAX_RETRY': 3,\n",
    "                                'GDAL_HTTP_RETRY_DELAY': 5,\n",
    "                               }),\n",
    "                          epsg=4326\n",
    "                          )"
   ]
  },
  {
   "cell_type": "code",
   "execution_count": null,
   "metadata": {},
   "outputs": [],
   "source": [
    "data_indices = sentinel_stack.sel(band=[\"blue\",\"rededge2\", \"rededge3\", \"green\",\"red\", \"nir\",\"nir08\",\"swir22\", \"scl\"]).to_dataset(dim='band')\n",
    "#rgb = sentinel_stack.sel(band=[\"red\", \"green\", \"blue\",\"scl\"]).isel(time=1).compute()"
   ]
  },
  {
   "cell_type": "code",
   "execution_count": null,
   "metadata": {},
   "outputs": [],
   "source": []
  },
  {
   "cell_type": "code",
   "execution_count": null,
   "metadata": {},
   "outputs": [],
   "source": []
  }
 ],
 "metadata": {
  "kernelspec": {
   "display_name": "PYTEST",
   "language": "python",
   "name": "python3"
  },
  "language_info": {
   "codemirror_mode": {
    "name": "ipython",
    "version": 3
   },
   "file_extension": ".py",
   "mimetype": "text/x-python",
   "name": "python",
   "nbconvert_exporter": "python",
   "pygments_lexer": "ipython3",
   "version": "3.12.1"
  }
 },
 "nbformat": 4,
 "nbformat_minor": 2
}
